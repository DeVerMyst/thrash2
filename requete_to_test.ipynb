{
 "cells": [
  {
   "cell_type": "markdown",
   "metadata": {},
   "source": [
    "#### creation user\n",
    "tester la création d'un USER\n",
    "\n",
    "vérifier qu'on ne peut pas créer deux fois un user avec le même mail\n",
    "\n"
   ]
  },
  {
   "cell_type": "code",
   "execution_count": 33,
   "metadata": {},
   "outputs": [
    {
     "name": "stdout",
     "output_type": "stream",
     "text": [
      "<bound method Response.json of <Response [400]>>\n",
      "400\n"
     ]
    }
   ],
   "source": [
    "import requests\n",
    "\n",
    "url = \"http://127.0.0.1:8095/api/users\"\n",
    "\n",
    "\n",
    "data = {\n",
    "    \"email\":\"tutu@toto.fr\",\n",
    "    \"password\":\"toto\",\n",
    "    \"name\":\"toto\"\n",
    "}\n",
    "\n",
    "headers = {\n",
    "    \"Content-Type\":'application/json'\n",
    "}\n",
    "\n",
    "response = requests.put(url, json=data, headers=headers)\n",
    "print(response.json)\n",
    "print(response.status_code)\n",
    "\n",
    "\n"
   ]
  },
  {
   "cell_type": "markdown",
   "metadata": {},
   "source": [
    "#### Login"
   ]
  },
  {
   "cell_type": "code",
   "execution_count": 34,
   "metadata": {},
   "outputs": [
    {
     "name": "stdout",
     "output_type": "stream",
     "text": [
      "<bound method Response.json of <Response [201]>>\n",
      "201\n"
     ]
    }
   ],
   "source": [
    "data = {\n",
    "    \"email\":\"tutu@toto.fr\",\n",
    "    \"password\":\"toto\",\n",
    "}\n",
    "\n",
    "headers = {\n",
    "    \"Content-Type\":'application/json'\n",
    "}\n",
    "\n",
    "response = requests.post(url, json=data, headers=headers)\n",
    "print(response.json)\n",
    "print(response.status_code)"
   ]
  },
  {
   "cell_type": "markdown",
   "metadata": {},
   "source": [
    "# tester l'api online\n",
    "\n",
    "lire tous les users \n",
    "http://localhost:8095/api/users \n",
    "\n",
    "lire un user (id=1)\n",
    "http://localhost:8095/api/users/1"
   ]
  }
 ],
 "metadata": {
  "kernelspec": {
   "display_name": "base",
   "language": "python",
   "name": "python3"
  },
  "language_info": {
   "codemirror_mode": {
    "name": "ipython",
    "version": 3
   },
   "file_extension": ".py",
   "mimetype": "text/x-python",
   "name": "python",
   "nbconvert_exporter": "python",
   "pygments_lexer": "ipython3",
   "version": "3.11.7"
  }
 },
 "nbformat": 4,
 "nbformat_minor": 2
}
