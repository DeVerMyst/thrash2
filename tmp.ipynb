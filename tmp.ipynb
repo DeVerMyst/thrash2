{
 "cells": [
  {
   "cell_type": "code",
   "execution_count": 28,
   "metadata": {},
   "outputs": [
    {
     "name": "stdout",
     "output_type": "stream",
     "text": [
      "<bound method Response.json of <Response [201]>>\n",
      "201\n"
     ]
    }
   ],
   "source": [
    "import requests\n",
    "\n",
    "url = \"http://127.0.0.1:8095/api/users\"\n",
    "\n",
    "\n",
    "data = {\n",
    "    \"email\":\"tutu@toto.fr\",\n",
    "    \"password\":\"toto\",\n",
    "    \"name\":\"toto\"\n",
    "}\n",
    "\n",
    "headers = {\n",
    "    \"Content-Type\":'application/json'\n",
    "}\n",
    "\n",
    "response = requests.put(url, json=data, headers=headers)\n",
    "print(response.json)\n",
    "print(response.status_code)\n",
    "\n",
    "\n"
   ]
  },
  {
   "cell_type": "code",
   "execution_count": 32,
   "metadata": {},
   "outputs": [
    {
     "name": "stdout",
     "output_type": "stream",
     "text": [
      "<bound method Response.json of <Response [400]>>\n",
      "400\n"
     ]
    }
   ],
   "source": [
    "data = {\n",
    "    \"email\":\"tutu@toto.fr\",\n",
    "    \"password\":\"toto\",\n",
    "}\n",
    "\n",
    "headers = {\n",
    "    \"Content-Type\":'application/json'\n",
    "}\n",
    "\n",
    "response = requests.post(url, json=data, headers=headers)\n",
    "print(response.json)\n",
    "print(response.status_code)"
   ]
  }
 ],
 "metadata": {
  "kernelspec": {
   "display_name": "base",
   "language": "python",
   "name": "python3"
  },
  "language_info": {
   "codemirror_mode": {
    "name": "ipython",
    "version": 3
   },
   "file_extension": ".py",
   "mimetype": "text/x-python",
   "name": "python",
   "nbconvert_exporter": "python",
   "pygments_lexer": "ipython3",
   "version": "3.11.7"
  }
 },
 "nbformat": 4,
 "nbformat_minor": 2
}
